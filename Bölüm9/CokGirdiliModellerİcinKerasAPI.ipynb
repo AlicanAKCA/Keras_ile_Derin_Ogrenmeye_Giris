{
  "nbformat": 4,
  "nbformat_minor": 0,
  "metadata": {
    "colab": {
      "name": "CokGirdiliModellerİcinKerasAPI.ipynb",
      "provenance": []
    },
    "kernelspec": {
      "name": "python3",
      "display_name": "Python 3"
    },
    "accelerator": "GPU"
  },
  "cells": [
    {
      "cell_type": "markdown",
      "metadata": {
        "id": "vFe3cEMQ6_jU",
        "colab_type": "text"
      },
      "source": [
        "### Kimlik Doğrulama İşlemleri\n"
      ]
    },
    {
      "cell_type": "code",
      "metadata": {
        "id": "0ISfTwgqI7Fh",
        "colab_type": "code",
        "colab": {
          "base_uri": "https://localhost:8080/",
          "height": 139
        },
        "outputId": "594885ad-4e4e-44ca-9463-372ec3d986c7"
      },
      "source": [
        "from google.colab import drive\n",
        "drive.mount('/gdrive')\n",
        "%cd /gdrive"
      ],
      "execution_count": null,
      "outputs": [
        {
          "output_type": "stream",
          "text": [
            "Go to this URL in a browser: https://accounts.google.com/o/oauth2/auth?client_id=947318989803-6bn6qk8qdgf4n4g3pfee6491hc0brc4i.apps.googleusercontent.com&redirect_uri=urn%3aietf%3awg%3aoauth%3a2.0%3aoob&response_type=code&scope=email%20https%3a%2f%2fwww.googleapis.com%2fauth%2fdocs.test%20https%3a%2f%2fwww.googleapis.com%2fauth%2fdrive%20https%3a%2f%2fwww.googleapis.com%2fauth%2fdrive.photos.readonly%20https%3a%2f%2fwww.googleapis.com%2fauth%2fpeopleapi.readonly\n",
            "\n",
            "Enter your authorization code:\n",
            "··········\n",
            "Mounted at /gdrive\n",
            "/gdrive\n"
          ],
          "name": "stdout"
        }
      ]
    },
    {
      "cell_type": "markdown",
      "metadata": {
        "id": "UygCpOVn7F-o",
        "colab_type": "text"
      },
      "source": [
        "Gerekli kütüphanelerin import edilmesi"
      ]
    },
    {
      "cell_type": "code",
      "metadata": {
        "id": "C6EtY6rSJGjy",
        "colab_type": "code",
        "colab": {
          "base_uri": "https://localhost:8080/",
          "height": 34
        },
        "outputId": "8a51c5c6-0ed6-44ce-a3d2-4ecd34ffe5a6"
      },
      "source": [
        "from keras.models import Model\n",
        "from keras import layers\n",
        "from keras import Input"
      ],
      "execution_count": null,
      "outputs": [
        {
          "output_type": "stream",
          "text": [
            "Using TensorFlow backend.\n"
          ],
          "name": "stderr"
        }
      ]
    },
    {
      "cell_type": "markdown",
      "metadata": {
        "id": "GYQGmwMz7Lei",
        "colab_type": "text"
      },
      "source": [
        "Verideki;\n",
        "* Sözcük büyüklüğü\n",
        "* Soru sözcüğü büyüklüğü\n",
        "* Yanıt sözcüğü büyüklüğü"
      ]
    },
    {
      "cell_type": "code",
      "metadata": {
        "id": "zYbsR2PQKPMH",
        "colab_type": "code",
        "colab": {}
      },
      "source": [
        "text_vocabulary_size = 1000\n",
        "question_vocabulary_size = 1000\n",
        "answer_vocabulary_size = 500"
      ],
      "execution_count": null,
      "outputs": []
    },
    {
      "cell_type": "markdown",
      "metadata": {
        "id": "gI8FJtbX7jji",
        "colab_type": "text"
      },
      "source": [
        "### Modelin Oluşturulması"
      ]
    },
    {
      "cell_type": "code",
      "metadata": {
        "id": "AIrjEqAMKbgl",
        "colab_type": "code",
        "colab": {}
      },
      "source": [
        "text_input = Input(shape = (None, ), dtype = 'int32', name = 'text')\n",
        "embedded_text = layers.Embedding(64, text_vocabulary_size)(text_input)\n",
        "encoded_text = layers.LSTM(32)(embedded_text)\n",
        "question_input = Input(shape=(None, ), dtype = 'int32', name = 'question')"
      ],
      "execution_count": null,
      "outputs": []
    },
    {
      "cell_type": "code",
      "metadata": {
        "id": "Y3033dPoKolN",
        "colab_type": "code",
        "colab": {}
      },
      "source": [
        "embedded_question = layers.Embedding(32, question_vocabulary_size)(question_input)\n",
        "\n",
        "encoded_question = layers.LSTM(16)(embedded_question)\n",
        "\n"
      ],
      "execution_count": null,
      "outputs": []
    },
    {
      "cell_type": "code",
      "metadata": {
        "id": "-bqPFX7GObJa",
        "colab_type": "code",
        "colab": {}
      },
      "source": [
        "concatenated = layers.concatenate([encoded_text, encoded_question],\n",
        "                                  axis = 1)\n",
        "\n",
        "answer = layers.Dense(answer_vocabulary_size, activation = 'softmax')(concatenated)"
      ],
      "execution_count": null,
      "outputs": []
    },
    {
      "cell_type": "code",
      "metadata": {
        "id": "5kUsSg18O1_r",
        "colab_type": "code",
        "colab": {}
      },
      "source": [
        "model = Model([text_input, question_input], answer)\n",
        "model.compile(optimizer = 'rmsprop',\n",
        "              loss = 'categorical_crossentropy',\n",
        "              metrics = ['acc'])"
      ],
      "execution_count": null,
      "outputs": []
    },
    {
      "cell_type": "code",
      "metadata": {
        "id": "yLc7REOUPUny",
        "colab_type": "code",
        "colab": {}
      },
      "source": [
        "import numpy as np"
      ],
      "execution_count": null,
      "outputs": []
    },
    {
      "cell_type": "code",
      "metadata": {
        "id": "yasty9o7PXxj",
        "colab_type": "code",
        "colab": {}
      },
      "source": [
        "num_samples = 1000\n",
        "max_lenght= 100"
      ],
      "execution_count": null,
      "outputs": []
    },
    {
      "cell_type": "code",
      "metadata": {
        "id": "aGLmXCLAPcnr",
        "colab_type": "code",
        "colab": {}
      },
      "source": [
        "text = np.random.randint(1, text_vocabulary_size,\n",
        "                         size=(num_samples, max_lenght))\n",
        "\n",
        "question = np.random.randint(1, question_vocabulary_size,\n",
        "                             size=(num_samples, max_lenght))\n",
        "\n",
        "\n",
        "answers = np.random.randint(0, 1,\n",
        "                            size=(num_samples, answer_vocabulary_size))"
      ],
      "execution_count": null,
      "outputs": []
    },
    {
      "cell_type": "code",
      "metadata": {
        "id": "fyMsDktOQf9f",
        "colab_type": "code",
        "colab": {
          "base_uri": "https://localhost:8080/",
          "height": 428
        },
        "outputId": "a5eca898-0af8-412d-8996-ed608ccb4683"
      },
      "source": [
        "model.fit([text, question], answers, epochs = 10, batch_size = 128)"
      ],
      "execution_count": null,
      "outputs": [
        {
          "output_type": "stream",
          "text": [
            "/usr/local/lib/python3.6/dist-packages/tensorflow/python/framework/indexed_slices.py:434: UserWarning: Converting sparse IndexedSlices to a dense Tensor of unknown shape. This may consume a large amount of memory.\n",
            "  \"Converting sparse IndexedSlices to a dense Tensor of unknown shape. \"\n"
          ],
          "name": "stderr"
        },
        {
          "output_type": "stream",
          "text": [
            "Epoch 1/10\n",
            "1000/1000 [==============================] - 5s 5ms/step - loss: 0.0000e+00 - acc: 0.0000e+00\n",
            "Epoch 2/10\n",
            "1000/1000 [==============================] - 3s 3ms/step - loss: 0.0000e+00 - acc: 0.0000e+00\n",
            "Epoch 3/10\n",
            "1000/1000 [==============================] - 3s 3ms/step - loss: 0.0000e+00 - acc: 0.0000e+00\n",
            "Epoch 4/10\n",
            "1000/1000 [==============================] - 3s 3ms/step - loss: 0.0000e+00 - acc: 0.0000e+00\n",
            "Epoch 5/10\n",
            "1000/1000 [==============================] - 3s 3ms/step - loss: 0.0000e+00 - acc: 0.0000e+00\n",
            "Epoch 6/10\n",
            "1000/1000 [==============================] - 3s 3ms/step - loss: 0.0000e+00 - acc: 0.0000e+00\n",
            "Epoch 7/10\n",
            "1000/1000 [==============================] - 3s 3ms/step - loss: 0.0000e+00 - acc: 0.0000e+00\n",
            "Epoch 8/10\n",
            "1000/1000 [==============================] - 3s 3ms/step - loss: 0.0000e+00 - acc: 0.0000e+00\n",
            "Epoch 9/10\n",
            "1000/1000 [==============================] - 3s 3ms/step - loss: 0.0000e+00 - acc: 0.0000e+00\n",
            "Epoch 10/10\n",
            "1000/1000 [==============================] - 3s 3ms/step - loss: 0.0000e+00 - acc: 0.0000e+00\n"
          ],
          "name": "stdout"
        },
        {
          "output_type": "execute_result",
          "data": {
            "text/plain": [
              "<keras.callbacks.callbacks.History at 0x7f43f0040390>"
            ]
          },
          "metadata": {
            "tags": []
          },
          "execution_count": 10
        }
      ]
    },
    {
      "cell_type": "code",
      "metadata": {
        "id": "TCuWdhJmQoVf",
        "colab_type": "code",
        "colab": {
          "base_uri": "https://localhost:8080/",
          "height": 374
        },
        "outputId": "d3e7db4f-ee28-4b3a-87f1-63fbbd8500c2"
      },
      "source": [
        "model.fit({'text': text, 'question': question}, answers, epochs = 10, batch_size = 128) "
      ],
      "execution_count": null,
      "outputs": [
        {
          "output_type": "stream",
          "text": [
            "Epoch 1/10\n",
            "1000/1000 [==============================] - 3s 3ms/step - loss: 0.0000e+00 - acc: 0.0000e+00\n",
            "Epoch 2/10\n",
            "1000/1000 [==============================] - 3s 3ms/step - loss: 0.0000e+00 - acc: 0.0000e+00\n",
            "Epoch 3/10\n",
            "1000/1000 [==============================] - 3s 3ms/step - loss: 0.0000e+00 - acc: 0.0000e+00\n",
            "Epoch 4/10\n",
            "1000/1000 [==============================] - 3s 3ms/step - loss: 0.0000e+00 - acc: 0.0000e+00\n",
            "Epoch 5/10\n",
            "1000/1000 [==============================] - 3s 3ms/step - loss: 0.0000e+00 - acc: 0.0000e+00\n",
            "Epoch 6/10\n",
            "1000/1000 [==============================] - 3s 3ms/step - loss: 0.0000e+00 - acc: 0.0000e+00\n",
            "Epoch 7/10\n",
            "1000/1000 [==============================] - 3s 3ms/step - loss: 0.0000e+00 - acc: 0.0000e+00\n",
            "Epoch 8/10\n",
            "1000/1000 [==============================] - 3s 3ms/step - loss: 0.0000e+00 - acc: 0.0000e+00\n",
            "Epoch 9/10\n",
            "1000/1000 [==============================] - 3s 3ms/step - loss: 0.0000e+00 - acc: 0.0000e+00\n",
            "Epoch 10/10\n",
            "1000/1000 [==============================] - 3s 3ms/step - loss: 0.0000e+00 - acc: 0.0000e+00\n"
          ],
          "name": "stdout"
        },
        {
          "output_type": "execute_result",
          "data": {
            "text/plain": [
              "<keras.callbacks.callbacks.History at 0x7f4395d54278>"
            ]
          },
          "metadata": {
            "tags": []
          },
          "execution_count": 11
        }
      ]
    },
    {
      "cell_type": "code",
      "metadata": {
        "id": "bDKOLcEdUsWo",
        "colab_type": "code",
        "colab": {}
      },
      "source": [
        "from keras import layers\n",
        "from keras import Input\n",
        "from keras.models import Model"
      ],
      "execution_count": null,
      "outputs": []
    },
    {
      "cell_type": "code",
      "metadata": {
        "id": "S7moqoJBVT_Z",
        "colab_type": "code",
        "colab": {}
      },
      "source": [
        "vocabulary_size = 50000\n",
        "num_income_groups = 10"
      ],
      "execution_count": null,
      "outputs": []
    },
    {
      "cell_type": "code",
      "metadata": {
        "id": "SKGeCPrUVb21",
        "colab_type": "code",
        "colab": {}
      },
      "source": [
        "posts_input = Input(shape=(None,), dtype='int32', name='posts')\n",
        "\n",
        "embedded_posts = layers.Embedding(256, vocabulary_size)(posts_input)\n",
        "\n",
        "x = layers.Conv1D(128, 5, activation='relu')(embedded_posts)\n",
        "x = layers.MaxPooling1D(5)(x)\n",
        "x = layers.Conv1D(256, 5, activation='relu')(x)\n",
        "x = layers.Conv1D(256, 5, activation='relu')(x)\n",
        "x = layers.MaxPooling1D(5)(x)\n",
        "x = layers.Conv1D(256, 5, activation='relu')(x)\n",
        "x = layers.Conv1D(256, 5, activation='relu')(x)\n",
        "x = layers.GlobalMaxPooling1D()(x)\n",
        "x = layers.Dense(128, activation='relu')(x)\n",
        "\n",
        "age_prediction = layers.Dense(1, name = 'age')(x)\n",
        "income_prediction = layers.Dense(num_income_groups, activation='softmax', name='income')(x)\n",
        "\n",
        "gender_prediction = layers.Dense(1, activation='sigmoid', name='gender')(x)\n",
        "\n",
        "model = Model(posts_input, [age_prediction, income_prediction, gender_prediction])"
      ],
      "execution_count": null,
      "outputs": []
    },
    {
      "cell_type": "code",
      "metadata": {
        "id": "487PUiWbXeH6",
        "colab_type": "code",
        "colab": {}
      },
      "source": [
        "model.compile(optimizer='rmsprop',\n",
        "              loss = ['mse', 'categorical_crossentropy', 'binary_crossentropy'])"
      ],
      "execution_count": null,
      "outputs": []
    },
    {
      "cell_type": "code",
      "metadata": {
        "id": "RprGE2bIYAMP",
        "colab_type": "code",
        "colab": {}
      },
      "source": [
        "model.compile(optimizer='rmsprop', \n",
        "              loss = {'age': 'mse',\n",
        "              'income': 'categorical_crossentropy',\n",
        "              'gender': 'binary_crossentropy'})"
      ],
      "execution_count": null,
      "outputs": []
    },
    {
      "cell_type": "code",
      "metadata": {
        "id": "ZvZf1N9LYSsy",
        "colab_type": "code",
        "colab": {}
      },
      "source": [
        "model.compile(optimizer = 'rmsprop',\n",
        "              loss = ['mse', 'categorical_crossentropy', 'binary_crossentropy'],\n",
        "              loss_weights = [0.25, 1., 10.])"
      ],
      "execution_count": null,
      "outputs": []
    },
    {
      "cell_type": "code",
      "metadata": {
        "id": "CxiKmEnXYm5l",
        "colab_type": "code",
        "colab": {}
      },
      "source": [
        "model.compile(optimizer = 'rmsprop',\n",
        "              loss = {'age': 'mse',\n",
        "                      'income': 'categorical_crossentropy',\n",
        "                      'gender': 'binary_crossentropy'},\n",
        "              loss_weights = {'age': 0.25,\n",
        "                              'income': 1.,\n",
        "                              'gender':10.})"
      ],
      "execution_count": null,
      "outputs": []
    },
    {
      "cell_type": "code",
      "metadata": {
        "id": "GW_vzNv40IUG",
        "colab_type": "code",
        "colab": {}
      },
      "source": [
        ""
      ],
      "execution_count": null,
      "outputs": []
    }
  ]
}